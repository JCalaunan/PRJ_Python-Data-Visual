{
 "metadata": {
  "language_info": {
   "codemirror_mode": {
    "name": "ipython",
    "version": 3
   },
   "file_extension": ".py",
   "mimetype": "text/x-python",
   "name": "python",
   "nbconvert_exporter": "python",
   "pygments_lexer": "ipython3",
   "version": 3
  },
  "orig_nbformat": 2
 },
 "nbformat": 4,
 "nbformat_minor": 2,
 "cells": [
  {
   "source": [
    "# Diamonds Data Exploration\n",
    "## Preliminary Wrangling\n",
    "This document explores a dataset containing metadata related to loans such as: \n",
    "- The type of loan, duration, amount, etc, to\n",
    "- Customers employment information that would impact there borrowing power i.e. credit rating, job type, etc. <br>\n",
    "`Additional variables provided in the data dictionary, Prosper Loan Data`"
   ],
   "cell_type": "markdown",
   "metadata": {}
  }
 ]
}